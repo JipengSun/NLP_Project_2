{
 "cells": [
  {
   "cell_type": "markdown",
   "metadata": {},
   "source": [
    "You need to pip install lxml first and then restart.\n",
    "\n"
   ]
  },
  {
   "cell_type": "code",
   "execution_count": 7,
   "metadata": {},
   "outputs": [],
   "source": [
    "import requests\n",
    "from bs4 import BeautifulSoup\n",
    "import json\n",
    "import pprint\n",
    "\n",
    "url1 = 'https://www.allrecipes.com/recipe/172060/hummus-and-prosciutto-wrap/'\n",
    "url2 = 'https://www.allrecipes.com/recipe/143809/best-steak-marinade-in-existence/'\n",
    "url3 = 'https://www.allrecipes.com/recipe/150273/spicy-pimento-cheese-sandwiches-with-avocado-and-bacon/'\n",
    "url4 = 'https://www.allrecipes.com/recipe/276206/stuffed-turkey-meatloaf/'\n",
    "\n",
    "strhtml=requests.get(url4)\n",
    "soup=BeautifulSoup(strhtml.text,'lxml')\n",
    "\n"
   ]
  },
  {
   "cell_type": "code",
   "execution_count": 8,
   "metadata": {},
   "outputs": [],
   "source": [
    "raw_result = {}\n",
    "\n",
    "raw_result['name'] = soup.select('body > div.docked-sharebar-content-container > div > main > div.recipe-container.two-col-container > div.content.two-col-main-content.karma-content-container > div.recipe-content.two-col-content.karma-main-column > div.main-header.recipe-main-header > div.intro.article-info > div > h1')[0].get_text()\n",
    "raw_result['intro'] = soup.select('body > div.docked-sharebar-content-container > div > main > div.recipe-container.two-col-container > div.content.two-col-main-content.karma-content-container > div.recipe-content.two-col-content.karma-main-column > div.main-header.recipe-main-header > div.recipe-summary > p')[0].get_text()\n",
    "raw_result['meta'] = soup.select('body > div.docked-sharebar-content-container > div > main > div.recipe-container.two-col-container > div.content.two-col-main-content.karma-content-container > div.recipe-content.two-col-content.karma-main-column > div.two-col-content-wrapper > div.recipe-content-container > div.lead-content-wrapper.two-col-style > div.lead-content-aside-wrapper.video-with-tout-image > div > section > div')#.find_all('div',{'class': 'recipe-meta-item-body'})\n",
    "raw_result['ingredients'] = soup.select('body > div.docked-sharebar-content-container > div > main > div.recipe-container.two-col-container > div.content.two-col-main-content.karma-content-container > div.recipe-content.two-col-content.karma-main-column > div.two-col-content-wrapper > div.recipe-content-container > div.recipe-shopper-wrapper > section.component.recipe-ingredients.recipeIngredients.container.interactive > fieldset > ul')[0].find_all('input')\n",
    "raw_result['step'] = soup.select('body > div.docked-sharebar-content-container > div > main > div.recipe-container.two-col-container > div.content.two-col-main-content.karma-content-container > div.recipe-content.two-col-content.karma-main-column > div.two-col-content-wrapper > div.recipe-content-container > section.component.recipe-instructions.recipeInstructions.container > fieldset > ul')[0].find_all('p')\n",
    "#raw_result['step'] = soup.select('body > div.docked-sharebar-content-container > div > main > div.recipe-container.two-col-container > div.content.two-col-main-content.karma-content-container.railDockSection-0 > div.recipe-content.two-col-content.karma-main-column > div.two-col-content-wrapper > div.recipe-content-container > section.component.recipe-instructions.recipeInstructions.container > fieldset > ul')\n",
    "#raw_result"
   ]
  },
  {
   "cell_type": "code",
   "execution_count": 9,
   "metadata": {},
   "outputs": [
    {
     "name": "stdout",
     "output_type": "stream",
     "text": [
      "<input class=\"checkbox-list-input\" data-ingredient=\"cooking spray (such as Pam®)\" data-init-quantity=\"\" data-quantity=\"\" data-tracking-label=\"ingredient clicked\" data-unit=\"\" data-unit_family=\"\" id=\"recipe-ingredients-label-276206-0-0\" type=\"checkbox\" value=\" Pam Butter Cooking Spray\"/>\n",
      "<input class=\"checkbox-list-input\" data-ingredient=\"ground turkey\" data-init-quantity=\"1\" data-quantity=\"1\" data-tracking-label=\"ingredient clicked\" data-unit=\"pound\" data-unit_family=\"weight\" id=\"recipe-ingredients-label-276206-0-1\" type=\"checkbox\" value=\" ground turkey\"/>\n",
      "<input class=\"checkbox-list-input\" data-ingredient=\"Italian-seasoned bread crumbs\" data-init-quantity=\"0.375\" data-quantity=\"⅜\" data-tracking-label=\"ingredient clicked\" data-unit=\"cup\" data-unit_family=\"volumetric\" id=\"recipe-ingredients-label-276206-0-2\" type=\"checkbox\" value=\" Italian seasoned bread crumbs\"/>\n",
      "<input class=\"checkbox-list-input\" data-ingredient=\"onion, diced\" data-init-quantity=\"0.5\" data-quantity=\"½\" data-tracking-label=\"ingredient clicked\" data-unit=\"\" data-unit_family=\"\" id=\"recipe-ingredients-label-276206-0-3\" type=\"checkbox\" value=\" onions\"/>\n",
      "<input class=\"checkbox-list-input\" data-ingredient=\"ketchup\" data-init-quantity=\"2\" data-quantity=\"2\" data-tracking-label=\"ingredient clicked\" data-unit=\"tablespoons\" data-unit_family=\"volumetric\" id=\"recipe-ingredients-label-276206-0-4\" type=\"checkbox\" value=\"(28 ounce) bottle ketchup\"/>\n",
      "<input class=\"checkbox-list-input\" data-ingredient=\"egg\" data-init-quantity=\"1\" data-quantity=\"1\" data-tracking-label=\"ingredient clicked\" data-unit=\"large\" data-unit_family=\"each\" id=\"recipe-ingredients-label-276206-0-5\" type=\"checkbox\" value=\" eggs\"/>\n",
      "<input class=\"checkbox-list-input\" data-ingredient=\"salt\" data-init-quantity=\"0.5\" data-quantity=\"½\" data-tracking-label=\"ingredient clicked\" data-unit=\"teaspoon\" data-unit_family=\"volumetric\" id=\"recipe-ingredients-label-276206-0-6\" type=\"checkbox\" value=\"pinch salt\"/>\n",
      "<input class=\"checkbox-list-input\" data-ingredient=\"garlic powder, or to taste\" data-init-quantity=\"1\" data-quantity=\"1\" data-tracking-label=\"ingredient clicked\" data-unit=\"pinch\" data-unit_family=\"each\" id=\"recipe-ingredients-label-276206-0-7\" type=\"checkbox\" value=\"pinch garlic powder\"/>\n",
      "<input class=\"checkbox-list-input\" data-ingredient=\"onion powder, or to taste\" data-init-quantity=\"1\" data-quantity=\"1\" data-tracking-label=\"ingredient clicked\" data-unit=\"pinch\" data-unit_family=\"each\" id=\"recipe-ingredients-label-276206-0-8\" type=\"checkbox\" value=\"pinch onion powder\"/>\n"
     ]
    },
    {
     "data": {
      "text/plain": [
       "{'name': 'Stuffed Turkey Meatloaf',\n",
       " 'ingredients': [{'quantity': 1,\n",
       "   'unit': '',\n",
       "   'name': 'cooking spray (such as Pam®)'},\n",
       "  {'quantity': 1.0, 'unit': 'pound', 'name': 'ground turkey'},\n",
       "  {'quantity': 0.375, 'unit': 'cup', 'name': 'Italian-seasoned bread crumbs'},\n",
       "  {'quantity': 0.5, 'unit': '', 'name': 'onion, diced'},\n",
       "  {'quantity': 2.0, 'unit': 'tablespoons', 'name': 'ketchup'},\n",
       "  {'quantity': 1.0, 'unit': 'large', 'name': 'egg'},\n",
       "  {'quantity': 0.5, 'unit': 'teaspoon', 'name': 'salt'},\n",
       "  {'quantity': 1.0, 'unit': 'pinch', 'name': 'garlic powder, or to taste'},\n",
       "  {'quantity': 1.0, 'unit': 'pinch', 'name': 'onion powder, or to taste'}],\n",
       " 'steps': ['Preheat the oven to 350 degrees F (175 degrees C). Spray a baking sheet with cooking spray (such as Pam®).',\n",
       "  'Mix turkey, bread crumbs, onion, ketchup, egg, salt, garlic powder, and onion powder together in a large bowl.',\n",
       "  'Spread meat mixture over a sheet of parchment paper to form a large square or rectangle. Sprinkle mozzarella cheese and spinach over 1/2 of the meat mixture. Fold other 1/2 of mixture gently over filled side. Press together and shape into a log. Transfer to the prepared baking sheet.',\n",
       "  'Bake in the preheated oven for 35 minutes.',\n",
       "  'In the meantime, mix ketchup, Worcestershire, Dijon, brown sugar, and garlic powder for glaze together in a bowl.',\n",
       "  'Remove meatloaf from the oven; pour glaze over. Return to the oven and bake until no longer pink in the center, 10 to 15 minutes more. An instant-read thermometer inserted into the center should read at least 160 degrees F (70 degrees C). Let rest for 5 minutes before serving.']}"
      ]
     },
     "execution_count": 9,
     "metadata": {},
     "output_type": "execute_result"
    }
   ],
   "source": [
    "    \n",
    "recipe_data = {\n",
    "    \"name\":raw_result['name'],\n",
    "    \"ingredients\":[],\n",
    "    \"steps\":[]\n",
    "}\n",
    "\n",
    "for item in raw_result['ingredients']:\n",
    "   ingredient_data = {}\n",
    "   print(item)\n",
    "   if item['data-init-quantity'] != '':\n",
    "        ingredient_data['quantity'] = float(item['data-init-quantity'])\n",
    "   else:\n",
    "        ingredient_data['quantity'] = 1\n",
    "   ingredient_data['unit'] = item['data-unit']\n",
    "   ingredient_data['name'] = item['data-ingredient']\n",
    "   recipe_data['ingredients'].append(ingredient_data)\n",
    "\n",
    "for step in raw_result['step']:\n",
    "    recipe_data['steps'].append(step.get_text())\n",
    "recipe_data\n"
   ]
  },
  {
   "cell_type": "code",
   "execution_count": 10,
   "metadata": {},
   "outputs": [
    {
     "name": "stdout",
     "output_type": "stream",
     "text": [
      "('{\"name\": \"Stuffed Turkey Meatloaf\", \"ingredients\": [{\"quantity\": 1, \"unit\": '\n",
      " '\"\", \"name\": \"cooking spray (such as Pam\\\\u00ae)\"}, {\"quantity\": 1.0, \"unit\": '\n",
      " '\"pound\", \"name\": \"ground turkey\"}, {\"quantity\": 0.375, \"unit\": \"cup\", '\n",
      " '\"name\": \"Italian-seasoned bread crumbs\"}, {\"quantity\": 0.5, \"unit\": \"\", '\n",
      " '\"name\": \"onion, diced\"}, {\"quantity\": 2.0, \"unit\": \"tablespoons\", \"name\": '\n",
      " '\"ketchup\"}, {\"quantity\": 1.0, \"unit\": \"large\", \"name\": \"egg\"}, {\"quantity\": '\n",
      " '0.5, \"unit\": \"teaspoon\", \"name\": \"salt\"}, {\"quantity\": 1.0, \"unit\": \"pinch\", '\n",
      " '\"name\": \"garlic powder, or to taste\"}, {\"quantity\": 1.0, \"unit\": \"pinch\", '\n",
      " '\"name\": \"onion powder, or to taste\"}], \"steps\": [\"Preheat the oven to 350 '\n",
      " 'degrees F (175 degrees C). Spray a baking sheet with cooking spray (such as '\n",
      " 'Pam\\\\u00ae).\", \"Mix turkey, bread crumbs, onion, ketchup, egg, salt, garlic '\n",
      " 'powder, and onion powder together in a large bowl.\", \"Spread meat mixture '\n",
      " 'over a sheet of parchment paper to form a large square or rectangle. '\n",
      " 'Sprinkle mozzarella cheese and spinach over 1/2 of the meat mixture. Fold '\n",
      " 'other 1/2 of mixture gently over filled side. Press together and shape into '\n",
      " 'a log. Transfer to the prepared baking sheet.\", \"Bake in the preheated oven '\n",
      " 'for 35 minutes.\", \"In the meantime, mix ketchup, Worcestershire, Dijon, '\n",
      " 'brown sugar, and garlic powder for glaze together in a bowl.\", \"Remove '\n",
      " 'meatloaf from the oven; pour glaze over. Return to the oven and bake until '\n",
      " 'no longer pink in the center, 10 to 15 minutes more. An instant-read '\n",
      " 'thermometer inserted into the center should read at least 160 degrees F (70 '\n",
      " 'degrees C). Let rest for 5 minutes before serving.\"]}')\n"
     ]
    }
   ],
   "source": [
    "recipe_json = json.dumps(recipe_data)\n",
    "#print(recipe_json)\n",
    "\n",
    "with open('./raw_recipe.json', 'w') as json_file:\n",
    "  json.dump(recipe_json, json_file)\n",
    "\n",
    "\n",
    "with open('./raw_recipe.json') as f:\n",
    "  data = json.load(f)\n",
    "\n",
    "pprint.pprint(data)"
   ]
  }
 ],
 "metadata": {
  "interpreter": {
   "hash": "f40074d2c94983a8faedb89fc439bf088f1a6d4f0a1d77ecd1da0a25da451a1f"
  },
  "kernelspec": {
   "display_name": "Python 3.7.11 64-bit ('NLP_Mining': conda)",
   "language": "python",
   "name": "python3"
  },
  "language_info": {
   "codemirror_mode": {
    "name": "ipython",
    "version": 3
   },
   "file_extension": ".py",
   "mimetype": "text/x-python",
   "name": "python",
   "nbconvert_exporter": "python",
   "pygments_lexer": "ipython3",
   "version": "3.7.11"
  },
  "orig_nbformat": 4
 },
 "nbformat": 4,
 "nbformat_minor": 2
}
