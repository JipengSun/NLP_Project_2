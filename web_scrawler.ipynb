{
 "cells": [
  {
   "cell_type": "markdown",
   "metadata": {},
   "source": [
    "You need to pip install lxml first and then restart.\n",
    "\n"
   ]
  },
  {
   "cell_type": "code",
   "execution_count": 72,
   "metadata": {},
   "outputs": [],
   "source": [
    "import requests\n",
    "from bs4 import BeautifulSoup\n",
    "import json\n",
    "import pprint\n",
    "\n",
    "url1 = 'https://www.allrecipes.com/recipe/172060/hummus-and-prosciutto-wrap/'\n",
    "url2 = 'https://www.allrecipes.com/recipe/143809/best-steak-marinade-in-existence/'\n",
    "\n",
    "\n",
    "strhtml=requests.get(url2)\n",
    "soup=BeautifulSoup(strhtml.text,'lxml')\n",
    "\n"
   ]
  },
  {
   "cell_type": "code",
   "execution_count": 73,
   "metadata": {},
   "outputs": [],
   "source": [
    "raw_result = {}\n",
    "\n",
    "raw_result['name'] = soup.select('body > div.docked-sharebar-content-container > div > main > div.recipe-container.two-col-container > div.content.two-col-main-content.karma-content-container > div.recipe-content.two-col-content.karma-main-column > div.main-header.recipe-main-header > div.intro.article-info > div > h1')[0].get_text()\n",
    "raw_result['intro'] = soup.select('body > div.docked-sharebar-content-container > div > main > div.recipe-container.two-col-container > div.content.two-col-main-content.karma-content-container > div.recipe-content.two-col-content.karma-main-column > div.main-header.recipe-main-header > div.recipe-summary > p')[0].get_text()\n",
    "raw_result['meta'] = soup.select('body > div.docked-sharebar-content-container > div > main > div.recipe-container.two-col-container > div.content.two-col-main-content.karma-content-container > div.recipe-content.two-col-content.karma-main-column > div.two-col-content-wrapper > div.recipe-content-container > div.lead-content-wrapper.two-col-style > div.lead-content-aside-wrapper.video-with-tout-image > div > section > div')#.find_all('div',{'class': 'recipe-meta-item-body'})\n",
    "raw_result['ingredients'] = soup.select('body > div.docked-sharebar-content-container > div > main > div.recipe-container.two-col-container > div.content.two-col-main-content.karma-content-container > div.recipe-content.two-col-content.karma-main-column > div.two-col-content-wrapper > div.recipe-content-container > div.recipe-shopper-wrapper > section.component.recipe-ingredients.recipeIngredients.container.interactive > fieldset > ul')[0].find_all('input')\n",
    "raw_result['step'] = soup.select('body > div.docked-sharebar-content-container > div > main > div.recipe-container.two-col-container > div.content.two-col-main-content.karma-content-container > div.recipe-content.two-col-content.karma-main-column > div.two-col-content-wrapper > div.recipe-content-container > section.component.recipe-instructions.recipeInstructions.container > fieldset > ul')[0].find_all('p')\n",
    "#raw_result['step'] = soup.select('body > div.docked-sharebar-content-container > div > main > div.recipe-container.two-col-container > div.content.two-col-main-content.karma-content-container.railDockSection-0 > div.recipe-content.two-col-content.karma-main-column > div.two-col-content-wrapper > div.recipe-content-container > section.component.recipe-instructions.recipeInstructions.container > fieldset > ul')\n",
    "#raw_result"
   ]
  },
  {
   "cell_type": "code",
   "execution_count": 74,
   "metadata": {},
   "outputs": [],
   "source": [
    "    \n",
    "recipe_data = {\n",
    "    \"name\":raw_result['name'],\n",
    "    \"ingredients\":[],\n",
    "    \"steps\":[]\n",
    "}\n",
    "\n",
    "for item in raw_result['ingredients']:\n",
    "   ingredient_data = {}\n",
    "   ingredient_data['quantity'] = float(item['data-init-quantity'])\n",
    "   ingredient_data['unit'] = item['data-unit']\n",
    "   ingredient_data['name'] = item['data-ingredient']\n",
    "   recipe_data['ingredients'].append(ingredient_data)\n",
    "\n",
    "for step in raw_result['step']:\n",
    "    recipe_data['steps'].append(step.get_text())\n",
    "recipe_data\n"
   ]
  },
  {
   "cell_type": "code",
   "execution_count": 75,
   "metadata": {},
   "outputs": [
    {
     "name": "stdout",
     "output_type": "stream",
     "text": [
      "('{\"name\": \"Best Steak Marinade in Existence\", \"ingredients\": [{\"quantity\": '\n",
      " '0.33333334326744, \"unit\": \"cup\", \"name\": \"soy sauce\"}, {\"quantity\": 0.5, '\n",
      " '\"unit\": \"cup\", \"name\": \"olive oil\"}, {\"quantity\": 0.33333334326744, \"unit\": '\n",
      " '\"cup\", \"name\": \"fresh lemon juice\"}, {\"quantity\": 0.25, \"unit\": \"cup\", '\n",
      " '\"name\": \"Worcestershire sauce\"}, {\"quantity\": 1.5, \"unit\": \"tablespoons\", '\n",
      " '\"name\": \"garlic powder\"}, {\"quantity\": 3.0, \"unit\": \"tablespoons\", \"name\": '\n",
      " '\"dried basil\"}, {\"quantity\": 1.5, \"unit\": \"tablespoons\", \"name\": \"dried '\n",
      " 'parsley flakes\"}, {\"quantity\": 1.0, \"unit\": \"teaspoon\", \"name\": \"ground '\n",
      " 'white pepper\"}, {\"quantity\": 0.25, \"unit\": \"teaspoon\", \"name\": \"hot pepper '\n",
      " 'sauce\"}, {\"quantity\": 1.0, \"unit\": \"teaspoon\", \"name\": \"dried minced '\n",
      " 'garlic\"}, {\"quantity\": 0.33333334326744, \"unit\": \"cup\", \"name\": \"soy '\n",
      " 'sauce\"}, {\"quantity\": 0.5, \"unit\": \"cup\", \"name\": \"olive oil\"}, {\"quantity\": '\n",
      " '0.33333334326744, \"unit\": \"cup\", \"name\": \"fresh lemon juice\"}, {\"quantity\": '\n",
      " '0.25, \"unit\": \"cup\", \"name\": \"Worcestershire sauce\"}, {\"quantity\": 1.5, '\n",
      " '\"unit\": \"tablespoons\", \"name\": \"garlic powder\"}, {\"quantity\": 3.0, \"unit\": '\n",
      " '\"tablespoons\", \"name\": \"dried basil\"}, {\"quantity\": 1.5, \"unit\": '\n",
      " '\"tablespoons\", \"name\": \"dried parsley flakes\"}, {\"quantity\": 1.0, \"unit\": '\n",
      " '\"teaspoon\", \"name\": \"ground white pepper\"}, {\"quantity\": 0.25, \"unit\": '\n",
      " '\"teaspoon\", \"name\": \"hot pepper sauce\"}, {\"quantity\": 1.0, \"unit\": '\n",
      " '\"teaspoon\", \"name\": \"dried minced garlic\"}, {\"quantity\": 0.33333334326744, '\n",
      " '\"unit\": \"cup\", \"name\": \"soy sauce\"}, {\"quantity\": 0.5, \"unit\": \"cup\", '\n",
      " '\"name\": \"olive oil\"}, {\"quantity\": 0.33333334326744, \"unit\": \"cup\", \"name\": '\n",
      " '\"fresh lemon juice\"}, {\"quantity\": 0.25, \"unit\": \"cup\", \"name\": '\n",
      " '\"Worcestershire sauce\"}, {\"quantity\": 1.5, \"unit\": \"tablespoons\", \"name\": '\n",
      " '\"garlic powder\"}, {\"quantity\": 3.0, \"unit\": \"tablespoons\", \"name\": \"dried '\n",
      " 'basil\"}, {\"quantity\": 1.5, \"unit\": \"tablespoons\", \"name\": \"dried parsley '\n",
      " 'flakes\"}, {\"quantity\": 1.0, \"unit\": \"teaspoon\", \"name\": \"ground white '\n",
      " 'pepper\"}, {\"quantity\": 0.25, \"unit\": \"teaspoon\", \"name\": \"hot pepper '\n",
      " 'sauce\"}, {\"quantity\": 1.0, \"unit\": \"teaspoon\", \"name\": \"dried minced '\n",
      " 'garlic\"}], \"steps\": [\"Place the soy sauce, olive oil, lemon juice, '\n",
      " 'Worcestershire sauce, garlic powder, basil, parsley, and pepper in a '\n",
      " 'blender. Add hot pepper sauce and garlic, if desired. Blend on high speed '\n",
      " 'for 30 seconds until thoroughly mixed.\", \"Pour marinade over desired type of '\n",
      " 'meat. Cover, and refrigerate for up to 8 hours. Cook meat as desired.\", '\n",
      " '\"Place the soy sauce, olive oil, lemon juice, Worcestershire sauce, garlic '\n",
      " 'powder, basil, parsley, and pepper in a blender. Add hot pepper sauce and '\n",
      " 'garlic, if desired. Blend on high speed for 30 seconds until thoroughly '\n",
      " 'mixed.\", \"Pour marinade over desired type of meat. Cover, and refrigerate '\n",
      " 'for up to 8 hours. Cook meat as desired.\", \"Place the soy sauce, olive oil, '\n",
      " 'lemon juice, Worcestershire sauce, garlic powder, basil, parsley, and pepper '\n",
      " 'in a blender. Add hot pepper sauce and garlic, if desired. Blend on high '\n",
      " 'speed for 30 seconds until thoroughly mixed.\", \"Pour marinade over desired '\n",
      " 'type of meat. Cover, and refrigerate for up to 8 hours. Cook meat as '\n",
      " 'desired.\"]}')\n"
     ]
    }
   ],
   "source": [
    "recipe_json = json.dumps(recipe_data)\n",
    "#print(recipe_json)\n",
    "\n",
    "with open('./raw_recipe.json', 'w') as json_file:\n",
    "  json.dump(recipe_json, json_file)\n",
    "\n",
    "\n",
    "with open('./raw_recipe.json') as f:\n",
    "  data = json.load(f)\n",
    "\n",
    "pprint.pprint(data)"
   ]
  }
 ],
 "metadata": {
  "interpreter": {
   "hash": "f40074d2c94983a8faedb89fc439bf088f1a6d4f0a1d77ecd1da0a25da451a1f"
  },
  "kernelspec": {
   "display_name": "Python 3.7.11 64-bit ('NLP_Mining': conda)",
   "language": "python",
   "name": "python3"
  },
  "language_info": {
   "codemirror_mode": {
    "name": "ipython",
    "version": 3
   },
   "file_extension": ".py",
   "mimetype": "text/x-python",
   "name": "python",
   "nbconvert_exporter": "python",
   "pygments_lexer": "ipython3",
   "version": "3.7.11"
  },
  "orig_nbformat": 4
 },
 "nbformat": 4,
 "nbformat_minor": 2
}
